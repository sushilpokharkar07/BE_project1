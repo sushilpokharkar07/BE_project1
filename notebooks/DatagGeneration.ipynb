{
 "cells": [
  {
   "cell_type": "code",
   "execution_count": null,
   "metadata": {},
   "outputs": [],
   "source": [
    "import os\n",
    "import cv2\n",
    "import dlib\n",
    "import shutil\n",
    "import numpy as np\n",
    "from tqdm.notebook import tqdm\n",
    "from imutils import face_utils"
   ]
  },
  {
   "cell_type": "code",
   "execution_count": null,
   "metadata": {},
   "outputs": [],
   "source": [
    "face_detector = dlib.get_frontal_face_detector()"
   ]
  },
  {
   "cell_type": "code",
   "execution_count": null,
   "metadata": {},
   "outputs": [],
   "source": [
    "if os.path.isdir('./dataset'):\n",
    "    shutil.rmtree('./dataset')\n",
    "os.mkdir('./dataset')\n",
    "os.mkdir('./dataset/images')\n",
    "    \n",
    "dataset_path = './dataset/images'\n",
    "path = './vggface2_test/test'\n",
    "list_of_images = []\n",
    "for dirname in tqdm(os.listdir(path)):\n",
    "    image_folder_path = os.path.join(path, dirname)\n",
    "    os.mkdir(os.path.join(dataset_path, dirname))\n",
    "    for image in tqdm(os.listdir(image_folder_path), leave=True, position=1):\n",
    "        image_path = os.path.join(image_folder_path, image)\n",
    "        img = cv2.imread(image_path)\n",
    "        gray = cv2.cvtColor(img, cv2.COLOR_BGR2GRAY)\n",
    "        faces = face_detector(gray, 0)\n",
    "        if len(faces) == 1:\n",
    "            for face in faces:\n",
    "                face_bounding_box = face_utils.rect_to_bb(face)\n",
    "                if all(i >= 0 for i in face_bounding_box):\n",
    "                    [x, y, w, h] = face_bounding_box\n",
    "                    frame = img[y:y + h, x:x + w]\n",
    "                    save_image = os.path.join(os.path.join(dataset_path, dirname), image)\n",
    "                    cv2.imwrite(save_image, frame)\n",
    "                    list_of_images.append(dirname + '/' + image)"
   ]
  },
  {
   "cell_type": "code",
   "execution_count": null,
   "metadata": {},
   "outputs": [],
   "source": [
    "with open('./dataset/list.txt', 'w') as f:\n",
    "    for item in list_of_images:\n",
    "        f.write(\"%s\\n\" % item)"
   ]
  },
  {
   "cell_type": "code",
   "execution_count": null,
   "metadata": {},
   "outputs": [],
   "source": []
  }
 ],
 "metadata": {
  "kernelspec": {
   "display_name": "Python 3",
   "language": "python",
   "name": "python3"
  },
  "language_info": {
   "codemirror_mode": {
    "name": "ipython",
    "version": 3
   },
   "file_extension": ".py",
   "mimetype": "text/x-python",
   "name": "python",
   "nbconvert_exporter": "python",
   "pygments_lexer": "ipython3",
   "version": "3.8.2"
  }
 },
 "nbformat": 4,
 "nbformat_minor": 4
}
